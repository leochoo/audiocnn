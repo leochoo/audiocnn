{
 "metadata": {
  "language_info": {
   "codemirror_mode": {
    "name": "ipython",
    "version": 3
   },
   "file_extension": ".py",
   "mimetype": "text/x-python",
   "name": "python",
   "nbconvert_exporter": "python",
   "pygments_lexer": "ipython3",
   "version": "3.9.1"
  },
  "orig_nbformat": 4,
  "kernelspec": {
   "name": "vocal-journal",
   "display_name": "vocal-journal",
   "language": "python"
  },
  "interpreter": {
   "hash": "88cab27c5dcc69f05101054abb7d66e8143e808831d4b6cdae7bffd213834055"
  }
 },
 "nbformat": 4,
 "nbformat_minor": 2,
 "cells": [
  {
   "cell_type": "code",
   "execution_count": 26,
   "metadata": {},
   "outputs": [
    {
     "output_type": "error",
     "ename": "FileNotFoundError",
     "evalue": "[Errno 2] No such file or directory: './DysphoniaSVD/healthy/DS_Store'",
     "traceback": [
      "\u001b[0;31m---------------------------------------------------------------------------\u001b[0m",
      "\u001b[0;31mFileNotFoundError\u001b[0m                         Traceback (most recent call last)",
      "\u001b[0;32m<ipython-input-26-772d3141c9b6>\u001b[0m in \u001b[0;36m<module>\u001b[0;34m\u001b[0m\n\u001b[1;32m      2\u001b[0m \u001b[0;32mimport\u001b[0m \u001b[0mos\u001b[0m\u001b[0;34m\u001b[0m\u001b[0;34m\u001b[0m\u001b[0m\n\u001b[1;32m      3\u001b[0m \u001b[0;34m\u001b[0m\u001b[0m\n\u001b[0;32m----> 4\u001b[0;31m \u001b[0mos\u001b[0m\u001b[0;34m.\u001b[0m\u001b[0mremove\u001b[0m\u001b[0;34m(\u001b[0m\u001b[0;34m\"./DysphoniaSVD/healthy/DS_Store\"\u001b[0m\u001b[0;34m)\u001b[0m\u001b[0;34m\u001b[0m\u001b[0;34m\u001b[0m\u001b[0m\n\u001b[0m\u001b[1;32m      5\u001b[0m \u001b[0mfilenames\u001b[0m \u001b[0;34m=\u001b[0m \u001b[0mos\u001b[0m\u001b[0;34m.\u001b[0m\u001b[0mlistdir\u001b[0m\u001b[0;34m(\u001b[0m\u001b[0;34m\"./DysphoniaSVD/healthy\"\u001b[0m\u001b[0;34m)\u001b[0m\u001b[0;34m\u001b[0m\u001b[0;34m\u001b[0m\u001b[0m\n\u001b[1;32m      6\u001b[0m \u001b[0mlen\u001b[0m\u001b[0;34m(\u001b[0m\u001b[0mfilenames\u001b[0m\u001b[0;34m)\u001b[0m\u001b[0;34m\u001b[0m\u001b[0;34m\u001b[0m\u001b[0m\n",
      "\u001b[0;31mFileNotFoundError\u001b[0m: [Errno 2] No such file or directory: './DysphoniaSVD/healthy/DS_Store'"
     ]
    }
   ],
   "source": [
    "import pandas as pd\n",
    "import os\n",
    "\n",
    "os.remove(\"./DysphoniaSVD/healthy/DS_Store\")\n",
    "filenames = os.listdir(\"./DysphoniaSVD/healthy\")\n",
    "len(filenames)"
   ]
  },
  {
   "cell_type": "code",
   "execution_count": 24,
   "metadata": {},
   "outputs": [
    {
     "output_type": "execute_result",
     "data": {
      "text/plain": [
       "True"
      ]
     },
     "metadata": {},
     "execution_count": 24
    }
   ],
   "source": [
    "\".DS_Store\" in filenames"
   ]
  },
  {
   "cell_type": "code",
   "execution_count": 23,
   "metadata": {},
   "outputs": [
    {
     "output_type": "stream",
     "name": "stdout",
     "text": [
      "    3140\n"
     ]
    }
   ],
   "source": [
    "!ls \"/Users/leonardchoo/Desktop/dev_m1/audio_cnn/DysphoniaSVD/healthy\" | wc -l"
   ]
  },
  {
   "cell_type": "code",
   "execution_count": 18,
   "metadata": {},
   "outputs": [
    {
     "output_type": "stream",
     "name": "stdout",
     "text": [
      "       3\n"
     ]
    }
   ],
   "source": [
    "!ls \"/Users/leonardchoo/Desktop/dev_m1/audio_cnn/DysphoniaSVD/test\" | wc -l"
   ]
  },
  {
   "cell_type": "code",
   "execution_count": 19,
   "metadata": {},
   "outputs": [
    {
     "output_type": "execute_result",
     "data": {
      "text/plain": [
       "3"
      ]
     },
     "metadata": {},
     "execution_count": 19
    }
   ],
   "source": [
    "len(os.listdir(\"./DysphoniaSVD/test\"))"
   ]
  },
  {
   "cell_type": "code",
   "execution_count": 21,
   "metadata": {
    "tags": [
     "outputPrepend"
    ]
   },
   "outputs": [
    {
     "output_type": "stream",
     "name": "stdout",
     "text": [
      "704 Jul  7  2020 969-a_n.wav\n-rw-rw-r--@ 1 leonardchoo  staff  134076 Jul  7  2020 969-i_h.wav\n-rw-rw-r--@ 1 leonardchoo  staff   75140 Jul  7  2020 969-i_l.wav\n-rw-rw-r--@ 1 leonardchoo  staff  134078 Jul  7  2020 969-i_n.wav\n-rw-rw-r--@ 1 leonardchoo  staff  145482 Jul  7  2020 969-u_h.wav\n-rw-rw-r--@ 1 leonardchoo  staff  110312 Jul  7  2020 969-u_l.wav\n-rw-rw-r--@ 1 leonardchoo  staff  144534 Jul  7  2020 969-u_n.wav\n-rw-rw-r--@ 1 leonardchoo  staff  122670 Jul  7  2020 97-a_h.wav\n-rw-rw-r--@ 1 leonardchoo  staff  134076 Jul  7  2020 97-a_l.wav\n-rw-rw-r--@ 1 leonardchoo  staff  133126 Jul  7  2020 97-a_n.wav\n-rw-rw-r--@ 1 leonardchoo  staff  165446 Jul  7  2020 97-i_h.wav\n-rw-rw-r--@ 1 leonardchoo  staff  129546 Jul  7  2020 97-i_l.wav\n-rw-rw-r--@ 1 leonardchoo  staff   93546 Jul  7  2020 97-i_n.wav\n-rw-rw-r--@ 1 leonardchoo  staff   68486 Jul  7  2020 97-u_h.wav\n-rw-rw-r--@ 1 leonardchoo  staff  116016 Jul  7  2020 97-u_l.wav\n-rw-rw-r--@ 1 leonardchoo  staff  104840 Jul  7  2020 97-u_n.wav\n-rw-rw-r--@ 1 leonardchoo  staff  101756 Jul  7  2020 970-a_h.wav\n-rw-rw-r--@ 1 leonardchoo  staff  118868 Jul  7  2020 970-a_l.wav\n-rw-rw-r--@ 1 leonardchoo  staff  133126 Jul  7  2020 970-a_n.wav\n-rw-rw-r--@ 1 leonardchoo  staff  117916 Jul  7  2020 970-i_h.wav\n-rw-rw-r--@ 1 leonardchoo  staff   82746 Jul  7  2020 970-i_l.wav\n-rw-rw-r--@ 1 leonardchoo  staff  132176 Jul  7  2020 970-i_n.wav\n-rw-rw-r--@ 1 leonardchoo  staff   95104 Jul  7  2020 970-u_h.wav\n-rw-rw-r--@ 1 leonardchoo  staff  106510 Jul  7  2020 970-u_l.wav\n-rw-rw-r--@ 1 leonardchoo  staff  138830 Jul  7  2020 970-u_n.wav\n-rw-rw-r--@ 1 leonardchoo  staff   93202 Jul  7  2020 971-a_h.wav\n-rw-rw-r--@ 1 leonardchoo  staff  140730 Jul  7  2020 971-a_l.wav\n-rw-rw-r--@ 1 leonardchoo  staff  116966 Jul  7  2020 971-a_n.wav\n-rw-rw-r--@ 1 leonardchoo  staff  129324 Jul  7  2020 971-i_h.wav\n-rw-rw-r--@ 1 leonardchoo  staff  195864 Jul  7  2020 971-i_l.wav\n-rw-rw-r--@ 1 leonardchoo  staff  115064 Jul  7  2020 971-i_n.wav\n-rw-rw-r--@ 1 leonardchoo  staff  169248 Jul  7  2020 971-u_h.wav\n-rw-rw-r--@ 1 leonardchoo  staff  131224 Jul  7  2020 971-u_l.wav\n-rw-rw-r--@ 1 leonardchoo  staff  107460 Jul  7  2020 971-u_n.wav\n-rw-rw-r--@ 1 leonardchoo  staff  110312 Jul  7  2020 972-a_h.wav\n-rw-rw-r--@ 1 leonardchoo  staff   89400 Jul  7  2020 972-a_l.wav\n-rw-rw-r--@ 1 leonardchoo  staff  110312 Jul  7  2020 972-a_n.wav\n-rw-rw-r--@ 1 leonardchoo  staff   97956 Jul  7  2020 972-i_h.wav\n-rw-rw-r--@ 1 leonardchoo  staff   65634 Jul  7  2020 972-i_l.wav\n-rw-rw-r--@ 1 leonardchoo  staff  158790 Jul  7  2020 972-i_n.wav\n-rw-rw-r--@ 1 leonardchoo  staff   69438 Jul  7  2020 972-u_h.wav\n-rw-rw-r--@ 1 leonardchoo  staff   54228 Jul  7  2020 972-u_l.wav\n-rw-rw-r--@ 1 leonardchoo  staff  105558 Jul  7  2020 972-u_n.wav\n-rw-rw-r--@ 1 leonardchoo  staff  121718 Jul  7  2020 973-a_h.wav\n-rw-rw-r--@ 1 leonardchoo  staff  148336 Jul  7  2020 973-a_l.wav\n-rw-rw-r--@ 1 leonardchoo  staff  119818 Jul  7  2020 973-a_n.wav\n-rw-rw-r--@ 1 leonardchoo  staff  153088 Jul  7  2020 973-i_h.wav\n-rw-rw-r--@ 1 leonardchoo  staff   76092 Jul  7  2020 973-i_l.wav\n-rw-rw-r--@ 1 leonardchoo  staff  166396 Jul  7  2020 973-i_n.wav\n-rw-rw-r--@ 1 leonardchoo  staff  136928 Jul  7  2020 973-u_h.wav\n-rw-rw-r--@ 1 leonardchoo  staff  118868 Jul  7  2020 973-u_l.wav\n-rw-rw-r--@ 1 leonardchoo  staff  190160 Jul  7  2020 973-u_n.wav\n-rw-rw-r--@ 1 leonardchoo  staff   76092 Jul  7  2020 974-a_h.wav\n-rw-rw-r--@ 1 leonardchoo  staff   71340 Jul  7  2020 974-a_l.wav\n-rw-rw-r--@ 1 leonardchoo  staff   83696 Jul  7  2020 974-a_n.wav\n-rw-rw-r--@ 1 leonardchoo  staff   84646 Jul  7  2020 974-i_h.wav\n-rw-rw-r--@ 1 leonardchoo  staff   83696 Jul  7  2020 974-i_l.wav\n-rw-rw-r--@ 1 leonardchoo  staff   94152 Jul  7  2020 974-i_n.wav\n-rw-rw-r--@ 1 leonardchoo  staff   74192 Jul  7  2020 974-u_h.wav\n-rw-rw-r--@ 1 leonardchoo  staff   75142 Jul  7  2020 974-u_l.wav\n-rw-rw-r--@ 1 leonardchoo  staff   84646 Jul  7  2020 974-u_n.wav\n-rw-rw-r--@ 1 leonardchoo  staff   64686 Jul  7  2020 975-a_h.wav\n-rw-rw-r--@ 1 leonardchoo  staff  116016 Jul  7  2020 975-a_l.wav\n-rw-rw-r--@ 1 leonardchoo  staff  116966 Jul  7  2020 975-a_n.wav\n-rw-rw-r--@ 1 leonardchoo  staff  121718 Jul  7  2020 975-i_h.wav\n-rw-rw-r--@ 1 leonardchoo  staff  116968 Jul  7  2020 975-i_l.wav\n-rw-rw-r--@ 1 leonardchoo  staff  196814 Jul  7  2020 975-i_n.wav\n-rw-rw-r--@ 1 leonardchoo  staff  109362 Jul  7  2020 975-u_h.wav\n-rw-rw-r--@ 1 leonardchoo  staff   99856 Jul  7  2020 975-u_l.wav\n-rw-rw-r--@ 1 leonardchoo  staff   92252 Jul  7  2020 975-u_n.wav\n-rw-rw-r--@ 1 leonardchoo  staff  176852 Jul  7  2020 976-a_h.wav\n-rw-rw-r--@ 1 leonardchoo  staff  181604 Jul  7  2020 976-a_l.wav\n-rw-rw-r--@ 1 leonardchoo  staff  168298 Jul  7  2020 976-a_n.wav\n-rw-rw-r--@ 1 leonardchoo  staff  128372 Jul  7  2020 976-i_h.wav\n-rw-rw-r--@ 1 leonardchoo  staff  177802 Jul  7  2020 976-i_l.wav\n-rw-rw-r--@ 1 leonardchoo  staff  147384 Jul  7  2020 976-i_n.wav\n-rw-rw-r--@ 1 leonardchoo  staff  155940 Jul  7  2020 976-u_h.wav\n-rw-rw-r--@ 1 leonardchoo  staff  173050 Jul  7  2020 976-u_l.wav\n-rw-rw-r--@ 1 leonardchoo  staff  174950 Jul  7  2020 976-u_n.wav\n-rw-rw-r--@ 1 leonardchoo  staff  150236 Jul  7  2020 977-a_h.wav\n-rw-rw-r--@ 1 leonardchoo  staff  116016 Jul  7  2020 977-a_l.wav\n-rw-rw-r--@ 1 leonardchoo  staff  150236 Jul  7  2020 977-a_n.wav\n-rw-rw-r--@ 1 leonardchoo  staff  126472 Jul  7  2020 977-i_h.wav\n-rw-rw-r--@ 1 leonardchoo  staff  114116 Jul  7  2020 977-i_l.wav\n-rw-rw-r--@ 1 leonardchoo  staff  152138 Jul  7  2020 977-i_n.wav\n-rw-rw-r--@ 1 leonardchoo  staff  115066 Jul  7  2020 977-u_h.wav\n-rw-rw-r--@ 1 leonardchoo  staff  117918 Jul  7  2020 977-u_l.wav\n-rw-rw-r--@ 1 leonardchoo  staff  122670 Jul  7  2020 977-u_n.wav\n-rw-rw-r--@ 1 leonardchoo  staff  129324 Jul  7  2020 978-a_h.wav\n-rw-rw-r--@ 1 leonardchoo  staff  142632 Jul  7  2020 978-a_l.wav\n-rw-rw-r--@ 1 leonardchoo  staff  132176 Jul  7  2020 978-a_n.wav\n-rw-rw-r--@ 1 leonardchoo  staff  123620 Jul  7  2020 978-i_h.wav\n-rw-rw-r--@ 1 leonardchoo  staff  100806 Jul  7  2020 978-i_l.wav\n-rw-rw-r--@ 1 leonardchoo  staff  175902 Jul  7  2020 978-i_n.wav\n-rw-rw-r--@ 1 leonardchoo  staff  154990 Jul  7  2020 978-u_h.wav\n-rw-rw-r--@ 1 leonardchoo  staff  135978 Jul  7  2020 978-u_l.wav\n-rw-rw-r--@ 1 leonardchoo  staff  136928 Jul  7  2020 978-u_n.wav\n-rw-rw-r--@ 1 leonardchoo  staff   69438 Jul  7  2020 979-a_h.wav\n-rw-rw-r--@ 1 leonardchoo  staff   79894 Jul  7  2020 979-a_l.wav\n-rw-rw-r--@ 1 leonardchoo  staff   87500 Jul  7  2020 979-a_n.wav\n-rw-rw-r--@ 1 leonardchoo  staff   80844 Jul  7  2020 979-i_h.wav\n-rw-rw-r--@ 1 leonardchoo  staff   87498 Jul  7  2020 979-i_l.wav\n-rw-rw-r--@ 1 leonardchoo  staff   74190 Jul  7  2020 979-i_n.wav\n-rw-rw-r--@ 1 leonardchoo  staff   54230 Jul  7  2020 979-u_h.wav\n-rw-rw-r--@ 1 leonardchoo  staff   68486 Jul  7  2020 979-u_l.wav\n-rw-rw-r--@ 1 leonardchoo  staff   88448 Jul  7  2020 979-u_n.wav\n-rw-rw-r--@ 1 leonardchoo  staff  120768 Jul  7  2020 98-a_h.wav\n-rw-rw-r--@ 1 leonardchoo  staff  112214 Jul  7  2020 98-a_l.wav\n-rw-rw-r--@ 1 leonardchoo  staff   90206 Jul  7  2020 98-a_n.wav\n-rw-rw-r--@ 1 leonardchoo  staff   50634 Jul  7  2020 98-i_h.wav\n-rw-rw-r--@ 1 leonardchoo  staff  154038 Jul  7  2020 98-i_l.wav\n-rw-rw-r--@ 1 leonardchoo  staff  126766 Jul  7  2020 98-i_n.wav\n-rw-rw-r--@ 1 leonardchoo  staff  178752 Jul  7  2020 98-u_h.wav\n-rw-rw-r--@ 1 leonardchoo  staff  194912 Jul  7  2020 98-u_l.wav\n-rw-rw-r--@ 1 leonardchoo  staff  155046 Jul  7  2020 98-u_n.wav\n-rw-rw-r--@ 1 leonardchoo  staff   99920 Jul  7  2020 980-a_h.wav\n-rw-rw-r--@ 1 leonardchoo  staff  112668 Jul  7  2020 980-a_l.wav\n-rw-rw-r--@ 1 leonardchoo  staff  106896 Jul  7  2020 980-a_n.wav\n-rw-rw-r--@ 1 leonardchoo  staff  113256 Jul  7  2020 980-i_h.wav\n-rw-rw-r--@ 1 leonardchoo  staff  132114 Jul  7  2020 980-i_l.wav\n-rw-rw-r--@ 1 leonardchoo  staff  116486 Jul  7  2020 980-i_n.wav\n-rw-rw-r--@ 1 leonardchoo  staff  115666 Jul  7  2020 980-u_h.wav\n-rw-rw-r--@ 1 leonardchoo  staff  122444 Jul  7  2020 980-u_l.wav\n-rw-rw-r--@ 1 leonardchoo  staff  118176 Jul  7  2020 980-u_n.wav\n-rw-rw-r--@ 1 leonardchoo  staff   75198 Jul  7  2020 981-a_h.wav\n-rw-rw-r--@ 1 leonardchoo  staff  102240 Jul  7  2020 981-a_l.wav\n-rw-rw-r--@ 1 leonardchoo  staff  102240 Jul  7  2020 981-a_n.wav\n-rw-rw-r--@ 1 leonardchoo  staff   89216 Jul  7  2020 981-i_h.wav\n-rw-rw-r--@ 1 leonardchoo  staff   66766 Jul  7  2020 981-i_l.wav\n-rw-rw-r--@ 1 leonardchoo  staff  161332 Jul  7  2020 981-i_n.wav\n-rw-rw-r--@ 1 leonardchoo  staff   70626 Jul  7  2020 981-u_h.wav\n-rw-rw-r--@ 1 leonardchoo  staff   84490 Jul  7  2020 981-u_l.wav\n-rw-rw-r--@ 1 leonardchoo  staff   91532 Jul  7  2020 981-u_n.wav\n-rw-rw-r--@ 1 leonardchoo  staff   76352 Jul  7  2020 982-a_h.wav\n-rw-rw-r--@ 1 leonardchoo  staff   76340 Jul  7  2020 982-a_l.wav\n-rw-rw-r--@ 1 leonardchoo  staff   76340 Jul  7  2020 982-a_n.wav\n-rw-rw-r--@ 1 leonardchoo  staff   77994 Jul  7  2020 982-i_h.wav\n-rw-rw-r--@ 1 leonardchoo  staff   75140 Jul  7  2020 982-i_l.wav\n-rw-rw-r--@ 1 leonardchoo  staff   78942 Jul  7  2020 982-i_n.wav\n-rw-rw-r--@ 1 leonardchoo  staff   61834 Jul  7  2020 982-u_h.wav\n-rw-rw-r--@ 1 leonardchoo  staff   78944 Jul  7  2020 982-u_l.wav\n-rw-rw-r--@ 1 leonardchoo  staff   77042 Jul  7  2020 982-u_n.wav\n-rw-rw-r--@ 1 leonardchoo  staff  113164 Jul  7  2020 983-a_h.wav\n-rw-rw-r--@ 1 leonardchoo  staff  100808 Jul  7  2020 983-a_l.wav\n-rw-rw-r--@ 1 leonardchoo  staff  169248 Jul  7  2020 983-a_n.wav\n-rw-rw-r--@ 1 leonardchoo  staff  192062 Jul  7  2020 983-i_h.wav\n-rw-rw-r--@ 1 leonardchoo  staff  147384 Jul  7  2020 983-i_l.wav\n-rw-rw-r--@ 1 leonardchoo  staff  194912 Jul  7  2020 983-i_n.wav\n-rw-rw-r--@ 1 leonardchoo  staff  159742 Jul  7  2020 983-u_h.wav\n-rw-rw-r--@ 1 leonardchoo  staff  164494 Jul  7  2020 983-u_l.wav\n-rw-rw-r--@ 1 leonardchoo  staff  194912 Jul  7  2020 983-u_n.wav\n-rw-rw-r--@ 1 leonardchoo  staff  100806 Jul  7  2020 984-a_h.wav\n-rw-rw-r--@ 1 leonardchoo  staff   62784 Jul  7  2020 984-a_l.wav\n-rw-rw-r--@ 1 leonardchoo  staff  117918 Jul  7  2020 984-a_n.wav\n-rw-rw-r--@ 1 leonardchoo  staff  116016 Jul  7  2020 984-i_h.wav\n-rw-rw-r--@ 1 leonardchoo  staff   73240 Jul  7  2020 984-i_l.wav\n-rw-rw-r--@ 1 leonardchoo  staff  111264 Jul  7  2020 984-i_n.wav\n-rw-rw-r--@ 1 leonardchoo  staff   87500 Jul  7  2020 984-u_h.wav\n-rw-rw-r--@ 1 leonardchoo  staff   71338 Jul  7  2020 984-u_l.wav\n-rw-rw-r--@ 1 leonardchoo  staff   97954 Jul  7  2020 984-u_n.wav\n-rw-rw-r--@ 1 leonardchoo  staff  139190 Jul  7  2020 985-a_h.wav\n-rw-rw-r--@ 1 leonardchoo  staff  182352 Jul  7  2020 985-a_l.wav\n-rw-rw-r--@ 1 leonardchoo  staff  158918 Jul  7  2020 985-a_n.wav\n-rw-rw-r--@ 1 leonardchoo  staff  127338 Jul  7  2020 985-i_h.wav\n-rw-rw-r--@ 1 leonardchoo  staff  179616 Jul  7  2020 985-i_l.wav\n-rw-rw-r--@ 1 leonardchoo  staff  130466 Jul  7  2020 985-i_n.wav\n-rw-rw-r--@ 1 leonardchoo  staff  164780 Jul  7  2020 985-u_h.wav\n-rw-rw-r--@ 1 leonardchoo  staff  111014 Jul  7  2020 985-u_l.wav\n-rw-rw-r--@ 1 leonardchoo  staff   84216 Jul  7  2020 985-u_n.wav\n-rw-rw-r--@ 1 leonardchoo  staff  154612 Jul  7  2020 986-a_h.wav\n-rw-rw-r--@ 1 leonardchoo  staff  150194 Jul  7  2020 986-a_l.wav\n-rw-rw-r--@ 1 leonardchoo  staff  153080 Jul  7  2020 986-a_n.wav\n-rw-rw-r--@ 1 leonardchoo  staff  198854 Jul  7  2020 986-i_h.wav\n-rw-rw-r--@ 1 leonardchoo  staff  141166 Jul  7  2020 986-i_l.wav\n-rw-rw-r--@ 1 leonardchoo  staff  188282 Jul  7  2020 986-i_n.wav\n-rw-rw-r--@ 1 leonardchoo  staff  135388 Jul  7  2020 986-u_h.wav\n-rw-rw-r--@ 1 leonardchoo  staff  124674 Jul  7  2020 986-u_l.wav\n-rw-rw-r--@ 1 leonardchoo  staff  178954 Jul  7  2020 986-u_n.wav\n-rw-rw-r--@ 1 leonardchoo  staff  129322 Jul  7  2020 987-a_h.wav\n-rw-rw-r--@ 1 leonardchoo  staff   97004 Jul  7  2020 987-a_l.wav\n-rw-rw-r--@ 1 leonardchoo  staff  149286 Jul  7  2020 987-a_n.wav\n-rw-rw-r--@ 1 leonardchoo  staff  132176 Jul  7  2020 987-i_h.wav\n-rw-rw-r--@ 1 leonardchoo  staff  146434 Jul  7  2020 987-i_l.wav\n-rw-rw-r--@ 1 leonardchoo  staff  153088 Jul  7  2020 987-i_n.wav\n-rw-rw-r--@ 1 leonardchoo  staff  116966 Jul  7  2020 987-u_h.wav\n-rw-rw-r--@ 1 leonardchoo  staff  103660 Jul  7  2020 987-u_l.wav\n-rw-rw-r--@ 1 leonardchoo  staff  127422 Jul  7  2020 987-u_n.wav\n-rw-rw-r--@ 1 leonardchoo  staff  199666 Jul  7  2020 988-a_h.wav\n-rw-rw-r--@ 1 leonardchoo  staff  133126 Jul  7  2020 988-a_l.wav\n-rw-rw-r--@ 1 leonardchoo  staff  193012 Jul  7  2020 988-a_n.wav\n-rw-rw-r--@ 1 leonardchoo  staff  158790 Jul  7  2020 988-i_h.wav\n-rw-rw-r--@ 1 leonardchoo  staff  174000 Jul  7  2020 988-i_l.wav\n-rw-rw-r--@ 1 leonardchoo  staff  172100 Jul  7  2020 988-i_n.wav\n-rw-rw-r--@ 1 leonardchoo  staff  148336 Jul  7  2020 988-u_h.wav\n-rw-rw-r--@ 1 leonardchoo  staff  155940 Jul  7  2020 988-u_l.wav\n-rw-rw-r--@ 1 leonardchoo  staff  193012 Jul  7  2020 988-u_n.wav\n-rw-rw-r--@ 1 leonardchoo  staff  105560 Jul  7  2020 989-a_h.wav\n-rw-rw-r--@ 1 leonardchoo  staff  151186 Jul  7  2020 989-a_l.wav\n-rw-rw-r--@ 1 leonardchoo  staff  150236 Jul  7  2020 989-a_n.wav\n-rw-rw-r--@ 1 leonardchoo  staff  133126 Jul  7  2020 989-i_h.wav\n-rw-rw-r--@ 1 leonardchoo  staff  197764 Jul  7  2020 989-i_l.wav\n-rw-rw-r--@ 1 leonardchoo  staff  193962 Jul  7  2020 989-i_n.wav\n-rw-rw-r--@ 1 leonardchoo  staff  130274 Jul  7  2020 989-u_h.wav\n-rw-rw-r--@ 1 leonardchoo  staff  156890 Jul  7  2020 989-u_l.wav\n-rw-rw-r--@ 1 leonardchoo  staff  117916 Jul  7  2020 989-u_n.wav\n-rw-rw-r--@ 1 leonardchoo  staff   68486 Jul  7  2020 99-a_h.wav\n-rw-rw-r--@ 1 leonardchoo  staff   62784 Jul  7  2020 99-a_l.wav\n-rw-rw-r--@ 1 leonardchoo  staff   83046 Jul  7  2020 99-a_n.wav\n-rw-rw-r--@ 1 leonardchoo  staff   57080 Jul  7  2020 99-i_h.wav\n-rw-rw-r--@ 1 leonardchoo  staff   57080 Jul  7  2020 99-i_l.wav\n-rw-rw-r--@ 1 leonardchoo  staff  192038 Jul  7  2020 99-i_n.wav\n-rw-rw-r--@ 1 leonardchoo  staff   77992 Jul  7  2020 99-u_h.wav\n-rw-rw-r--@ 1 leonardchoo  staff   79792 Jul  7  2020 99-u_l.wav\n-rw-rw-r--@ 1 leonardchoo  staff   97004 Jul  7  2020 99-u_n.wav\n-rw-rw-r--@ 1 leonardchoo  staff   53278 Jul  7  2020 990-a_h.wav\n-rw-rw-r--@ 1 leonardchoo  staff   58980 Jul  7  2020 990-a_l.wav\n-rw-rw-r--@ 1 leonardchoo  staff   98906 Jul  7  2020 990-a_n.wav\n-rw-rw-r--@ 1 leonardchoo  staff   91300 Jul  7  2020 990-i_h.wav\n-rw-rw-r--@ 1 leonardchoo  staff   56130 Jul  7  2020 990-i_l.wav\n-rw-rw-r--@ 1 leonardchoo  staff   59932 Jul  7  2020 990-i_n.wav\n-rw-rw-r--@ 1 leonardchoo  staff   66586 Jul  7  2020 990-u_h.wav\n-rw-rw-r--@ 1 leonardchoo  staff   60882 Jul  7  2020 990-u_l.wav\n-rw-rw-r--@ 1 leonardchoo  staff   96054 Jul  7  2020 990-u_n.wav\n-rw-rw-r--@ 1 leonardchoo  staff  143582 Jul  7  2020 991-a_h.wav\n-rw-rw-r--@ 1 leonardchoo  staff  128372 Jul  7  2020 991-a_l.wav\n-rw-rw-r--@ 1 leonardchoo  staff  151186 Jul  7  2020 991-a_n.wav\n-rw-rw-r--@ 1 leonardchoo  staff  149284 Jul  7  2020 991-i_h.wav\n-rw-rw-r--@ 1 leonardchoo  staff  130274 Jul  7  2020 991-i_l.wav\n-rw-rw-r--@ 1 leonardchoo  staff  159742 Jul  7  2020 991-i_n.wav\n-rw-rw-r--@ 1 leonardchoo  staff  105560 Jul  7  2020 991-u_h.wav\n-rw-rw-r--@ 1 leonardchoo  staff   90350 Jul  7  2020 991-u_l.wav\n-rw-rw-r--@ 1 leonardchoo  staff  156890 Jul  7  2020 991-u_n.wav\n-rw-rw-r--@ 1 leonardchoo  staff   81796 Jul  7  2020 992-a_h.wav\n-rw-rw-r--@ 1 leonardchoo  staff   78944 Jul  7  2020 992-a_l.wav\n-rw-rw-r--@ 1 leonardchoo  staff   69438 Jul  7  2020 992-a_n.wav\n-rw-rw-r--@ 1 leonardchoo  staff   93202 Jul  7  2020 992-i_h.wav\n-rw-rw-r--@ 1 leonardchoo  staff   87498 Jul  7  2020 992-i_l.wav\n-rw-rw-r--@ 1 leonardchoo  staff  122670 Jul  7  2020 992-i_n.wav\n-rw-rw-r--@ 1 leonardchoo  staff   73240 Jul  7  2020 992-u_h.wav\n-rw-rw-r--@ 1 leonardchoo  staff   71338 Jul  7  2020 992-u_l.wav\n-rw-rw-r--@ 1 leonardchoo  staff   87498 Jul  7  2020 992-u_n.wav\n-rw-rw-r--@ 1 leonardchoo  staff  110312 Jul  7  2020 993-a_h.wav\n-rw-rw-r--@ 1 leonardchoo  staff  118868 Jul  7  2020 993-a_l.wav\n-rw-rw-r--@ 1 leonardchoo  staff  103658 Jul  7  2020 993-a_n.wav\n-rw-rw-r--@ 1 leonardchoo  staff  121720 Jul  7  2020 993-i_h.wav\n-rw-rw-r--@ 1 leonardchoo  staff  148336 Jul  7  2020 993-i_l.wav\n-rw-rw-r--@ 1 leonardchoo  staff  126472 Jul  7  2020 993-i_n.wav\n-rw-rw-r--@ 1 leonardchoo  staff  122668 Jul  7  2020 993-u_h.wav\n-rw-rw-r--@ 1 leonardchoo  staff  121718 Jul  7  2020 993-u_l.wav\n-rw-rw-r--@ 1 leonardchoo  staff   97954 Jul  7  2020 993-u_n.wav\n-rw-rw-r--@ 1 leonardchoo  staff  116016 Jul  7  2020 994-a_h.wav\n-rw-rw-r--@ 1 leonardchoo  staff   98906 Jul  7  2020 994-a_l.wav\n-rw-rw-r--@ 1 leonardchoo  staff  100806 Jul  7  2020 994-a_n.wav\n-rw-rw-r--@ 1 leonardchoo  staff  126470 Jul  7  2020 994-i_h.wav\n-rw-rw-r--@ 1 leonardchoo  staff  153088 Jul  7  2020 994-i_l.wav\n-rw-rw-r--@ 1 leonardchoo  staff  127422 Jul  7  2020 994-i_n.wav\n-rw-rw-r--@ 1 leonardchoo  staff  108410 Jul  7  2020 994-u_h.wav\n-rw-rw-r--@ 1 leonardchoo  staff   99856 Jul  7  2020 994-u_l.wav\n-rw-rw-r--@ 1 leonardchoo  staff  162594 Jul  7  2020 994-u_n.wav\n-rw-rw-r--@ 1 leonardchoo  staff  164494 Jul  7  2020 995-a_h.wav\n-rw-rw-r--@ 1 leonardchoo  staff  194912 Jul  7  2020 995-a_l.wav\n-rw-rw-r--@ 1 leonardchoo  staff  187308 Jul  7  2020 995-a_n.wav\n-rw-rw-r--@ 1 leonardchoo  staff  193962 Jul  7  2020 995-i_h.wav\n-rw-rw-r--@ 1 leonardchoo  staff  129324 Jul  7  2020 995-i_l.wav\n-rw-rw-r--@ 1 leonardchoo  staff  189210 Jul  7  2020 995-i_n.wav\n-rw-rw-r--@ 1 leonardchoo  staff  148336 Jul  7  2020 995-u_h.wav\n-rw-rw-r--@ 1 leonardchoo  staff  133126 Jul  7  2020 995-u_l.wav\n-rw-rw-r--@ 1 leonardchoo  staff  158792 Jul  7  2020 995-u_n.wav\n-rw-rw-r--@ 1 leonardchoo  staff   51358 Jul  7  2020 996-a_h.wav\n-rw-rw-r--@ 1 leonardchoo  staff   50130 Jul  7  2020 996-a_l.wav\n-rw-rw-r--@ 1 leonardchoo  staff  104608 Jul  7  2020 996-a_n.wav\n-rw-rw-r--@ 1 leonardchoo  staff  116966 Jul  7  2020 996-i_h.wav\n-rw-rw-r--@ 1 leonardchoo  staff   91300 Jul  7  2020 996-i_l.wav\n-rw-rw-r--@ 1 leonardchoo  staff  124570 Jul  7  2020 996-i_n.wav\n-rw-rw-r--@ 1 leonardchoo  staff   73240 Jul  7  2020 996-u_h.wav\n-rw-rw-r--@ 1 leonardchoo  staff   59932 Jul  7  2020 996-u_l.wav\n-rw-rw-r--@ 1 leonardchoo  staff   93202 Jul  7  2020 996-u_n.wav\n-rw-rw-r--@ 1 leonardchoo  staff  108412 Jul  7  2020 997-a_h.wav\n-rw-rw-r--@ 1 leonardchoo  staff   99856 Jul  7  2020 997-a_l.wav\n-rw-rw-r--@ 1 leonardchoo  staff  139780 Jul  7  2020 997-a_n.wav\n-rw-rw-r--@ 1 leonardchoo  staff  120770 Jul  7  2020 997-i_h.wav\n-rw-rw-r--@ 1 leonardchoo  staff   87500 Jul  7  2020 997-i_l.wav\n-rw-rw-r--@ 1 leonardchoo  staff   74190 Jul  7  2020 997-i_n.wav\n-rw-rw-r--@ 1 leonardchoo  staff   97956 Jul  7  2020 997-u_h.wav\n-rw-rw-r--@ 1 leonardchoo  staff   97956 Jul  7  2020 997-u_l.wav\n-rw-rw-r--@ 1 leonardchoo  staff  157840 Jul  7  2020 997-u_n.wav\n-rw-rw-r--@ 1 leonardchoo  staff  159742 Jul  7  2020 998-a_h.wav\n-rw-rw-r--@ 1 leonardchoo  staff  154988 Jul  7  2020 998-a_l.wav\n-rw-rw-r--@ 1 leonardchoo  staff   98904 Jul  7  2020 998-a_n.wav\n-rw-rw-r--@ 1 leonardchoo  staff  152136 Jul  7  2020 998-i_h.wav\n-rw-rw-r--@ 1 leonardchoo  staff  178752 Jul  7  2020 998-i_l.wav\n-rw-rw-r--@ 1 leonardchoo  staff  133126 Jul  7  2020 998-i_n.wav\n-rw-rw-r--@ 1 leonardchoo  staff  197766 Jul  7  2020 998-u_h.wav\n-rw-rw-r--@ 1 leonardchoo  staff  185408 Jul  7  2020 998-u_l.wav\n-rw-rw-r--@ 1 leonardchoo  staff   77994 Jul  7  2020 998-u_n.wav\n-rw-rw-r--@ 1 leonardchoo  staff  141682 Jul  7  2020 999-a_h.wav\n-rw-rw-r--@ 1 leonardchoo  staff   99856 Jul  7  2020 999-a_l.wav\n-rw-rw-r--@ 1 leonardchoo  staff   78944 Jul  7  2020 999-a_n.wav\n-rw-rw-r--@ 1 leonardchoo  staff  192060 Jul  7  2020 999-i_h.wav\n-rw-rw-r--@ 1 leonardchoo  staff  104610 Jul  7  2020 999-i_l.wav\n-rw-rw-r--@ 1 leonardchoo  staff  192060 Jul  7  2020 999-i_n.wav\n-rw-rw-r--@ 1 leonardchoo  staff  174950 Jul  7  2020 999-u_h.wav\n-rw-rw-r--@ 1 leonardchoo  staff  196814 Jul  7  2020 999-u_l.wav\n-rw-rw-r--@ 1 leonardchoo  staff  138828 Jul  7  2020 999-u_n.wav\n"
     ]
    }
   ],
   "source": []
  },
  {
   "cell_type": "code",
   "execution_count": null,
   "metadata": {},
   "outputs": [],
   "source": []
  }
 ]
}