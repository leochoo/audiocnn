{
 "metadata": {
  "language_info": {
   "codemirror_mode": {
    "name": "ipython",
    "version": 3
   },
   "file_extension": ".py",
   "mimetype": "text/x-python",
   "name": "python",
   "nbconvert_exporter": "python",
   "pygments_lexer": "ipython3",
   "version": "3.9.1"
  },
  "orig_nbformat": 4,
  "kernelspec": {
   "name": "vocal-journal",
   "display_name": "vocal-journal",
   "language": "python"
  }
 },
 "nbformat": 4,
 "nbformat_minor": 2,
 "cells": [
  {
   "cell_type": "code",
   "execution_count": 1,
   "metadata": {},
   "outputs": [
    {
     "output_type": "stream",
     "name": "stdout",
     "text": [
      "Classify Urban Sound.ipynb    data.h5\n\u001b[1m\u001b[36mDysphoniaSVD\u001b[m\u001b[m                  hdf5test.ipynb\nDysphoniaSVD.zip              inference.py\nProcessAudio.ipynb            mytestfile.hdf5\nREADME.md                     note.md\nTest.tar.gz                   preprocessing.py\n\u001b[1m\u001b[36mTestSound8K\u001b[m\u001b[m                   requirements.txt\nTweakTesting.ipynb            sound_classification_model.py\n\u001b[1m\u001b[36mUrbanSound8K\u001b[m\u001b[m                  sound_classification_split.py\nUrbanSound8K.tar.gz           \u001b[1m\u001b[36mspectrogram cnn\u001b[m\u001b[m\ncheckmissingfile.ipynb        temp_dataloader.txt\ncustom_data_loader.py         training.py\n"
     ]
    }
   ],
   "source": [
    "!ls"
   ]
  },
  {
   "cell_type": "code",
   "execution_count": 4,
   "metadata": {
    "tags": []
   },
   "outputs": [
    {
     "output_type": "stream",
     "name": "stdout",
     "text": [
      "    3141\n"
     ]
    }
   ],
   "source": [
    "!ls DysphoniaSVD/healthy/ | wc -l"
   ]
  },
  {
   "cell_type": "code",
   "execution_count": 14,
   "metadata": {},
   "outputs": [],
   "source": [
    "metadata_file = \"./DysphoniaSVD/DysphoniaSVD-metadata.csv\""
   ]
  },
  {
   "cell_type": "code",
   "execution_count": 79,
   "metadata": {},
   "outputs": [
    {
     "output_type": "execute_result",
     "data": {
      "text/plain": [
       "(7792, 43)"
      ]
     },
     "metadata": {},
     "execution_count": 79
    }
   ],
   "source": [
    "import pandas as pd\n",
    "df = pd.read_csv(metadata_file)\n",
    "df = df.drop_duplicates()\n",
    "df.shape"
   ]
  },
  {
   "cell_type": "code",
   "execution_count": 80,
   "metadata": {},
   "outputs": [
    {
     "output_type": "stream",
     "name": "stderr",
     "text": [
      "<ipython-input-80-39bbde8ee028>:2: SettingWithCopyWarning: \nA value is trying to be set on a copy of a slice from a DataFrame.\nTry using .loc[row_indexer,col_indexer] = value instead\n\nSee the caveats in the documentation: https://pandas.pydata.org/pandas-docs/stable/user_guide/indexing.html#returning-a-view-versus-a-copy\n  healthy_df[\"filepath\"] = df['Name'].astype(str) + \".wav\"\n"
     ]
    },
    {
     "output_type": "execute_result",
     "data": {
      "text/plain": [
       "      Name     Type Tone Syllab    Jitter   Shimmer        HNR     MFCC-0  \\\n",
       "0  743-u_n  healthy    n      u  1.164692  0.042058  24.772758  21.736319   \n",
       "1   56-i_n  healthy    n      i  0.155393  0.011061  26.922863  23.644426   \n",
       "2   39-a_l  healthy    l      a  0.224576  0.027684  27.151732  22.485759   \n",
       "3   29-a_l  healthy    l      a  0.498826  0.038859  20.022510  22.026267   \n",
       "4   46-i_n  healthy    n      i  0.532008  0.023150  22.705093  22.937200   \n",
       "\n",
       "      MFCC-1    MFCC-2  ...  MFCC-3_d2  MFCC-4_d2  MFCC-5_d2  MFCC-6_d2  \\\n",
       "0  17.458524  7.820948  ...   0.270776  -0.009505  -0.128288  -0.186863   \n",
       "1  10.189441  4.770982  ...   0.518259   0.143927  -0.062734   0.127002   \n",
       "2  17.417019  2.881103  ...  -0.091457  -0.292316  -0.328552   0.389849   \n",
       "3  15.125506  0.457665  ...  -0.107558  -0.409835  -0.297088   0.062504   \n",
       "4   8.484145  6.262272  ...   0.618542   0.195190  -0.183320   0.034640   \n",
       "\n",
       "   MFCC-7_d2  MFCC-8_d2  MFCC-9_d2  MFCC-10_d2  MFCC-11_d2     filepath  \n",
       "0  -0.080942  -0.100158  -0.020964   -0.034327   -0.045887  743-u_n.wav  \n",
       "1   0.049976  -0.086409   0.016862   -0.080224    0.008735   56-i_n.wav  \n",
       "2   0.009098  -0.191274   0.004799   -0.089539   -0.059719   39-a_l.wav  \n",
       "3   0.123028   0.112664   0.175903   -0.137256    0.002436   29-a_l.wav  \n",
       "4   0.149443  -0.214998  -0.022542   -0.047958   -0.059465   46-i_n.wav  \n",
       "\n",
       "[5 rows x 44 columns]"
      ],
      "text/html": "<div>\n<style scoped>\n    .dataframe tbody tr th:only-of-type {\n        vertical-align: middle;\n    }\n\n    .dataframe tbody tr th {\n        vertical-align: top;\n    }\n\n    .dataframe thead th {\n        text-align: right;\n    }\n</style>\n<table border=\"1\" class=\"dataframe\">\n  <thead>\n    <tr style=\"text-align: right;\">\n      <th></th>\n      <th>Name</th>\n      <th>Type</th>\n      <th>Tone</th>\n      <th>Syllab</th>\n      <th>Jitter</th>\n      <th>Shimmer</th>\n      <th>HNR</th>\n      <th>MFCC-0</th>\n      <th>MFCC-1</th>\n      <th>MFCC-2</th>\n      <th>...</th>\n      <th>MFCC-3_d2</th>\n      <th>MFCC-4_d2</th>\n      <th>MFCC-5_d2</th>\n      <th>MFCC-6_d2</th>\n      <th>MFCC-7_d2</th>\n      <th>MFCC-8_d2</th>\n      <th>MFCC-9_d2</th>\n      <th>MFCC-10_d2</th>\n      <th>MFCC-11_d2</th>\n      <th>filepath</th>\n    </tr>\n  </thead>\n  <tbody>\n    <tr>\n      <th>0</th>\n      <td>743-u_n</td>\n      <td>healthy</td>\n      <td>n</td>\n      <td>u</td>\n      <td>1.164692</td>\n      <td>0.042058</td>\n      <td>24.772758</td>\n      <td>21.736319</td>\n      <td>17.458524</td>\n      <td>7.820948</td>\n      <td>...</td>\n      <td>0.270776</td>\n      <td>-0.009505</td>\n      <td>-0.128288</td>\n      <td>-0.186863</td>\n      <td>-0.080942</td>\n      <td>-0.100158</td>\n      <td>-0.020964</td>\n      <td>-0.034327</td>\n      <td>-0.045887</td>\n      <td>743-u_n.wav</td>\n    </tr>\n    <tr>\n      <th>1</th>\n      <td>56-i_n</td>\n      <td>healthy</td>\n      <td>n</td>\n      <td>i</td>\n      <td>0.155393</td>\n      <td>0.011061</td>\n      <td>26.922863</td>\n      <td>23.644426</td>\n      <td>10.189441</td>\n      <td>4.770982</td>\n      <td>...</td>\n      <td>0.518259</td>\n      <td>0.143927</td>\n      <td>-0.062734</td>\n      <td>0.127002</td>\n      <td>0.049976</td>\n      <td>-0.086409</td>\n      <td>0.016862</td>\n      <td>-0.080224</td>\n      <td>0.008735</td>\n      <td>56-i_n.wav</td>\n    </tr>\n    <tr>\n      <th>2</th>\n      <td>39-a_l</td>\n      <td>healthy</td>\n      <td>l</td>\n      <td>a</td>\n      <td>0.224576</td>\n      <td>0.027684</td>\n      <td>27.151732</td>\n      <td>22.485759</td>\n      <td>17.417019</td>\n      <td>2.881103</td>\n      <td>...</td>\n      <td>-0.091457</td>\n      <td>-0.292316</td>\n      <td>-0.328552</td>\n      <td>0.389849</td>\n      <td>0.009098</td>\n      <td>-0.191274</td>\n      <td>0.004799</td>\n      <td>-0.089539</td>\n      <td>-0.059719</td>\n      <td>39-a_l.wav</td>\n    </tr>\n    <tr>\n      <th>3</th>\n      <td>29-a_l</td>\n      <td>healthy</td>\n      <td>l</td>\n      <td>a</td>\n      <td>0.498826</td>\n      <td>0.038859</td>\n      <td>20.022510</td>\n      <td>22.026267</td>\n      <td>15.125506</td>\n      <td>0.457665</td>\n      <td>...</td>\n      <td>-0.107558</td>\n      <td>-0.409835</td>\n      <td>-0.297088</td>\n      <td>0.062504</td>\n      <td>0.123028</td>\n      <td>0.112664</td>\n      <td>0.175903</td>\n      <td>-0.137256</td>\n      <td>0.002436</td>\n      <td>29-a_l.wav</td>\n    </tr>\n    <tr>\n      <th>4</th>\n      <td>46-i_n</td>\n      <td>healthy</td>\n      <td>n</td>\n      <td>i</td>\n      <td>0.532008</td>\n      <td>0.023150</td>\n      <td>22.705093</td>\n      <td>22.937200</td>\n      <td>8.484145</td>\n      <td>6.262272</td>\n      <td>...</td>\n      <td>0.618542</td>\n      <td>0.195190</td>\n      <td>-0.183320</td>\n      <td>0.034640</td>\n      <td>0.149443</td>\n      <td>-0.214998</td>\n      <td>-0.022542</td>\n      <td>-0.047958</td>\n      <td>-0.059465</td>\n      <td>46-i_n.wav</td>\n    </tr>\n  </tbody>\n</table>\n<p>5 rows × 44 columns</p>\n</div>"
     },
     "metadata": {},
     "execution_count": 80
    }
   ],
   "source": [
    "healthy_df = df.loc[df['Type'] == \"healthy\"]\n",
    "healthy_df[\"filepath\"] = df['Name'].astype(str) + \".wav\"\n",
    "healthy_df.head()\n"
   ]
  },
  {
   "cell_type": "code",
   "execution_count": 96,
   "metadata": {},
   "outputs": [
    {
     "output_type": "execute_result",
     "data": {
      "text/plain": [
       "3140"
      ]
     },
     "metadata": {},
     "execution_count": 96
    }
   ],
   "source": [
    "healthy_list_metadata = list(healthy_df[\"filepath\"])\n",
    "len(healthy_list_metadata)"
   ]
  },
  {
   "cell_type": "code",
   "execution_count": 97,
   "metadata": {},
   "outputs": [],
   "source": [
    "import os\n",
    "filenames = os.listdir(\"./DysphoniaSVD/healthy\")"
   ]
  },
  {
   "cell_type": "code",
   "execution_count": 98,
   "metadata": {},
   "outputs": [
    {
     "output_type": "execute_result",
     "data": {
      "text/plain": [
       "3140"
      ]
     },
     "metadata": {},
     "execution_count": 98
    }
   ],
   "source": [
    "len(filenames)"
   ]
  },
  {
   "cell_type": "code",
   "execution_count": 99,
   "metadata": {},
   "outputs": [
    {
     "output_type": "execute_result",
     "data": {
      "text/plain": [
       "[]"
      ]
     },
     "metadata": {},
     "execution_count": 99
    }
   ],
   "source": [
    "list(set(filenames) - set(healthy_list_metadata) )"
   ]
  },
  {
   "cell_type": "code",
   "execution_count": 100,
   "metadata": {},
   "outputs": [],
   "source": [
    "# ['1031-a_l.wav', '.DS_Store'] missing for some reason...\n",
    "# 210706 deleted for now. to be added later"
   ]
  },
  {
   "cell_type": "code",
   "execution_count": 60,
   "metadata": {},
   "outputs": [],
   "source": [
    "seen = {}\n",
    "dupes = []\n",
    "\n",
    "for x in healthy_list_metadata:\n",
    "    if x not in seen:\n",
    "        seen[x] = 1\n",
    "    else:\n",
    "        if seen[x] == 1:\n",
    "            dupes.append(x)\n",
    "        seen[x] += 1"
   ]
  },
  {
   "cell_type": "code",
   "execution_count": 61,
   "metadata": {},
   "outputs": [
    {
     "output_type": "execute_result",
     "data": {
      "text/plain": [
       "18"
      ]
     },
     "metadata": {},
     "execution_count": 61
    }
   ],
   "source": [
    "len(dupes)"
   ]
  },
  {
   "cell_type": "code",
   "execution_count": 62,
   "metadata": {},
   "outputs": [
    {
     "output_type": "execute_result",
     "data": {
      "text/plain": [
       "['1-i_l.wav',\n",
       " '2-u_h.wav',\n",
       " '1-i_n.wav',\n",
       " '2-u_l.wav',\n",
       " '2-u_n.wav',\n",
       " '1-i_h.wav',\n",
       " '2-i_n.wav',\n",
       " '1-u_h.wav',\n",
       " '2-i_l.wav',\n",
       " '2-i_h.wav',\n",
       " '1-u_n.wav',\n",
       " '1-u_l.wav',\n",
       " '2-a_n.wav',\n",
       " '2-a_l.wav',\n",
       " '2-a_h.wav',\n",
       " '1-a_l.wav',\n",
       " '1-a_n.wav',\n",
       " '1-a_h.wav']"
      ]
     },
     "metadata": {},
     "execution_count": 62
    }
   ],
   "source": [
    "dupes"
   ]
  },
  {
   "cell_type": "code",
   "execution_count": 64,
   "metadata": {},
   "outputs": [
    {
     "output_type": "execute_result",
     "data": {
      "text/plain": [
       "(7810, 43)"
      ]
     },
     "metadata": {},
     "execution_count": 64
    }
   ],
   "source": [
    "df.shape"
   ]
  },
  {
   "cell_type": "code",
   "execution_count": 69,
   "metadata": {},
   "outputs": [],
   "source": [
    "ddf = df.drop_duplicates()"
   ]
  },
  {
   "cell_type": "code",
   "execution_count": null,
   "metadata": {},
   "outputs": [],
   "source": [
    "# trying to figure out wtf is wrong"
   ]
  },
  {
   "cell_type": "code",
   "execution_count": 25,
   "metadata": {},
   "outputs": [
    {
     "output_type": "stream",
     "name": "stdout",
     "text": [
      "    3141\n",
      "    1916\n",
      "    1008\n",
      "     909\n",
      "       0\n"
     ]
    }
   ],
   "source": [
    "!ls ./DysphoniaSVD/healthy/ | wc -l\n",
    "!ls ./DysphoniaSVD/pathological/hyperfunctional/ | wc -l\n",
    "!ls ./DysphoniaSVD/pathological/functional/ | wc -l\n",
    "!ls ./DysphoniaSVD/pathological/organic/ | wc -l\n",
    "!ls ./DysphoniaSVD/pathological/psychogenic/ | wc -l"
   ]
  },
  {
   "cell_type": "code",
   "execution_count": 14,
   "metadata": {},
   "outputs": [],
   "source": [
    "dirhealthy = \"/Users/leonardchoo/Desktop/dev_m1/audio_cnn/DysphoniaSVD/healthy/\"\n",
    "dirf= \"/Users/leonardchoo/Desktop/dev_m1/audio_cnn/DysphoniaSVD/pathological/functional/\"\n",
    "diro= \"/Users/leonardchoo/Desktop/dev_m1/audio_cnn/DysphoniaSVD/pathological/organic/\"\n",
    "dirh= \"/Users/leonardchoo/Desktop/dev_m1/audio_cnn/DysphoniaSVD/pathological/hyperfunctional/\"\n",
    "dirp= \"/Users/leonardchoo/Desktop/dev_m1/audio_cnn/DysphoniaSVD/pathological/psychogenic/\"\n",
    "\n",
    "dirli = [dirhealthy, dirf, diro, dirh, dirp]"
   ]
  },
  {
   "cell_type": "code",
   "execution_count": 22,
   "metadata": {},
   "outputs": [
    {
     "output_type": "stream",
     "name": "stdout",
     "text": [
      "3142 True\n1008 False\n909 False\n1916 False\n0 False\n"
     ]
    }
   ],
   "source": [
    "import os\n",
    "for d in dirli:\n",
    "    print(f'{len(os.listdir(d))} {\".DS_Store\" in os.listdir(d)}')"
   ]
  },
  {
   "cell_type": "code",
   "execution_count": 24,
   "metadata": {},
   "outputs": [
    {
     "output_type": "execute_result",
     "data": {
      "text/plain": [
       "6975"
      ]
     },
     "metadata": {},
     "execution_count": 24
    }
   ],
   "source": []
  },
  {
   "cell_type": "code",
   "execution_count": null,
   "metadata": {},
   "outputs": [],
   "source": []
  }
 ]
}