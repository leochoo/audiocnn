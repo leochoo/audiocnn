{
  "nbformat": 4,
  "nbformat_minor": 0,
  "metadata": {
    "kernelspec": {
      "name": "python3",
      "display_name": "Python 3"
    },
    "colab": {
      "name": "Generate j, s, h, mfcc.ipynb",
      "provenance": [],
      "collapsed_sections": [],
      "include_colab_link": true
    },
    "language_info": {
      "name": "python"
    }
  },
  "cells": [
    {
      "cell_type": "markdown",
      "metadata": {
        "id": "view-in-github",
        "colab_type": "text"
      },
      "source": [
        "<a href=\"https://colab.research.google.com/github/leochoo/audiocnn/blob/main/notebooks/Generate_j%2C_s%2C_h%2C_mfcc.ipynb\" target=\"_parent\"><img src=\"https://colab.research.google.com/assets/colab-badge.svg\" alt=\"Open In Colab\"/></a>"
      ]
    },
    {
      "cell_type": "code",
      "metadata": {
        "colab": {
          "base_uri": "https://localhost:8080/"
        },
        "id": "-mdSDj6azx7q",
        "outputId": "37f3c091-7c14-425a-83fc-4f5f0982887b"
      },
      "source": [
        "!pip install praat-parselmouth seaborn tqdm"
      ],
      "execution_count": null,
      "outputs": [
        {
          "output_type": "stream",
          "text": [
            "Requirement already satisfied: praat-parselmouth in /usr/local/lib/python3.7/dist-packages (0.4.0)\n",
            "Requirement already satisfied: seaborn in /usr/local/lib/python3.7/dist-packages (0.11.1)\n",
            "Requirement already satisfied: tqdm in /usr/local/lib/python3.7/dist-packages (4.41.1)\n",
            "Requirement already satisfied: numpy>=1.7.0 in /usr/local/lib/python3.7/dist-packages (from praat-parselmouth) (1.19.5)\n",
            "Requirement already satisfied: matplotlib>=2.2 in /usr/local/lib/python3.7/dist-packages (from seaborn) (3.2.2)\n",
            "Requirement already satisfied: scipy>=1.0 in /usr/local/lib/python3.7/dist-packages (from seaborn) (1.4.1)\n",
            "Requirement already satisfied: pandas>=0.23 in /usr/local/lib/python3.7/dist-packages (from seaborn) (1.1.5)\n",
            "Requirement already satisfied: pyparsing!=2.0.4,!=2.1.2,!=2.1.6,>=2.0.1 in /usr/local/lib/python3.7/dist-packages (from matplotlib>=2.2->seaborn) (2.4.7)\n",
            "Requirement already satisfied: cycler>=0.10 in /usr/local/lib/python3.7/dist-packages (from matplotlib>=2.2->seaborn) (0.10.0)\n",
            "Requirement already satisfied: python-dateutil>=2.1 in /usr/local/lib/python3.7/dist-packages (from matplotlib>=2.2->seaborn) (2.8.1)\n",
            "Requirement already satisfied: kiwisolver>=1.0.1 in /usr/local/lib/python3.7/dist-packages (from matplotlib>=2.2->seaborn) (1.3.1)\n",
            "Requirement already satisfied: pytz>=2017.2 in /usr/local/lib/python3.7/dist-packages (from pandas>=0.23->seaborn) (2018.9)\n",
            "Requirement already satisfied: six in /usr/local/lib/python3.7/dist-packages (from cycler>=0.10->matplotlib>=2.2->seaborn) (1.15.0)\n"
          ],
          "name": "stdout"
        }
      ]
    },
    {
      "cell_type": "code",
      "metadata": {
        "id": "GdfuYLMuzp20"
      },
      "source": [
        "# initialize\n",
        "from tqdm import tqdm\n",
        "from time import sleep\n",
        "\n",
        "import glob\n",
        "import parselmouth\n",
        "import pandas as pd\n",
        "import numpy as np\n",
        "import matplotlib.pyplot as plt\n",
        "import seaborn as sns\n",
        "import os\n",
        "\n",
        "import statistics"
      ],
      "execution_count": null,
      "outputs": []
    },
    {
      "cell_type": "code",
      "metadata": {
        "id": "iKH-_3MRzp21"
      },
      "source": [
        "# Process wav files to get Jitter, Shimmer, HNR, and MFCC\n",
        "\n",
        "def get_voice_data(_path):\n",
        "    # select .wav files only\n",
        "    wav_files = glob.glob(_path + \"/*.wav\")\n",
        "\n",
        "    n_list = []\n",
        "    tone_list = []\n",
        "    syllab_list = []\n",
        "\n",
        "    j_list = []\n",
        "    s_list = []\n",
        "    h_list = []\n",
        "\n",
        "    # for wav_file in wav_files:\n",
        "    for wav_file in tqdm(wav_files): # tqdm shows the progress bar\n",
        "        sound = parselmouth.Sound(wav_file) # sound object from wav file\n",
        "        pitch = sound.to_pitch()\n",
        "        pulses = parselmouth.praat.call([sound, pitch], \"To PointProcess (cc)\")\n",
        "\n",
        "        # name analysis\n",
        "        name = os.path.basename(wav_file).split(\".\")[0]  \n",
        "        \n",
        "        ## tone\n",
        "        if \"l\" in name:\n",
        "            tone_list.append(\"l\")\n",
        "        elif \"n\" in name:\n",
        "            tone_list.append(\"n\")\n",
        "        elif \"h\" in name:\n",
        "            tone_list.append(\"h\")\n",
        "\n",
        "        ## syllable\n",
        "        if \"a\" in name:\n",
        "            syllab_list.append(\"a\")\n",
        "        elif \"i\" in name:\n",
        "            syllab_list.append(\"i\")\n",
        "        elif \"u\" in name:\n",
        "            syllab_list.append(\"u\")\n",
        "        # jitter\n",
        "        jitter_local = parselmouth.praat.call(pulses, \"Get jitter (local)\", 0.0, 0.0, 0.0001, 0.02, 1.3) * 100\n",
        "\n",
        "        # shimmer\n",
        "        shimmer_local = parselmouth.praat.call([sound, pulses], \"Get shimmer (local)\", 0, 0, 0.0001, 0.02, 1.3, 1.6)\n",
        "\n",
        "        # HNR\n",
        "        harmonicity = parselmouth.praat.call(sound, \"To Harmonicity (cc)\", 0.01, 75, 0.1, 1.0)\n",
        "        hnr = parselmouth.praat.call(harmonicity, \"Get mean\", 0, 0)\n",
        "        \n",
        "        # Append to numpy array\n",
        "        n_list.append(name)\n",
        "        j_list.append(jitter_local)\n",
        "        s_list.append(shimmer_local)\n",
        "        h_list.append(hnr)\n",
        "\n",
        "        # MFCC\n",
        "        mfcc_object = sound.to_mfcc(number_of_coefficients=12)\n",
        "        mfcc_arr = mfcc_object.to_array()\n",
        "        mfcc_dic = {}\n",
        "        for i in range(0,len(mfcc_arr)):\n",
        "            mfcc_dic[\"MFCC-\"+str(i)] = [statistics.mean(mfcc_arr[i])]\n",
        "        mfcc_df = pd.DataFrame.from_dict(mfcc_dic)\n",
        "\n",
        "    # create dataframe\n",
        "    df = pd.DataFrame({\"Name\":pd.Series(n_list),\n",
        "                        \"Type\": np.nan,\n",
        "                        \"Tone\": pd.Series(tone_list),\n",
        "                        \"Syllab\": pd.Series(syllab_list),\n",
        "                           \"Jitter\":pd.Series(j_list),\n",
        "                           \"Shimmer\":pd.Series(s_list),\n",
        "                           \"HNR\":pd.Series(h_list)})\n",
        "    df[\"Type\"]= _path.split(\"/\")[-1] # identify type: my_data, healthy, functional etc...\n",
        "    new_df = pd.concat([df, mfcc_df], axis=1, sort=False)\n",
        "#     new_df = new_df.dropna() # some data are missing jitter, shimmer, hnr for some reason it seems..?\n",
        "    return new_df\n"
      ],
      "execution_count": null,
      "outputs": []
    },
    {
      "cell_type": "code",
      "metadata": {
        "id": "VFik5y3gzp22"
      },
      "source": [
        "def generate_jshmfcc(dataset_path):\n",
        "    healthy_df = get_voice_data(dataset_path + \"/healthy\")\n",
        "    functional_df = get_voice_data(dataset_path + \"/pathological/functional\")\n",
        "    hyperfunctional_df = get_voice_data(dataset_path + \"/pathological/hyperfunctional\")\n",
        "    organic_df = get_voice_data(dataset_path + \"/pathological/organic\")\n",
        "    psychogenic_df = get_voice_data(dataset_path + \"/pathological/psychogenic\")\n",
        "\n",
        "    # Combine the results into one dataframe\n",
        "    frames = [healthy_df, functional_df, hyperfunctional_df, organic_df, psychogenic_df]\n",
        "    combined_df = pd.concat(frames)\n",
        "    combined_df = combined_df.dropna()\n",
        "    return combined_df\n"
      ],
      "execution_count": null,
      "outputs": []
    },
    {
      "cell_type": "markdown",
      "metadata": {
        "id": "BkvORIyNz8QS"
      },
      "source": [
        "# Mount Data"
      ]
    },
    {
      "cell_type": "code",
      "metadata": {
        "colab": {
          "base_uri": "https://localhost:8080/"
        },
        "id": "BGhZmJ9vz8FG",
        "outputId": "9bfd165d-de91-45b4-e3bf-838fafed1dab"
      },
      "source": [
        "from google.colab import drive\n",
        "drive.mount('/content/gdrive')"
      ],
      "execution_count": null,
      "outputs": [
        {
          "output_type": "stream",
          "text": [
            "Drive already mounted at /content/gdrive; to attempt to forcibly remount, call drive.mount(\"/content/gdrive\", force_remount=True).\n"
          ],
          "name": "stdout"
        }
      ]
    },
    {
      "cell_type": "code",
      "metadata": {
        "colab": {
          "base_uri": "https://localhost:8080/"
        },
        "id": "X2NGeElGz8Bs",
        "outputId": "4b3a0ce4-02fe-4fe3-9702-6c1ca740d11f"
      },
      "source": [
        "!ls /content/gdrive/MyDrive/CompressedData/"
      ],
      "execution_count": null,
      "outputs": [
        {
          "output_type": "stream",
          "text": [
            "DysphoniaSVD-TAR.tar.gz  Test.tar.gz  UrbanSound8K.tar.gz\n"
          ],
          "name": "stdout"
        }
      ]
    },
    {
      "cell_type": "code",
      "metadata": {
        "id": "3SJAI5j6z7-5"
      },
      "source": [
        "# !tar -xvzf /content/gdrive/MyDrive/CompressedData/DysphoniaSVD-TAR.tar.gz -C /content/"
      ],
      "execution_count": null,
      "outputs": []
    },
    {
      "cell_type": "code",
      "metadata": {
        "colab": {
          "base_uri": "https://localhost:8080/"
        },
        "id": "8Geaf3UIz78G",
        "outputId": "9bd8fa49-ab43-478e-805c-59253e898eac"
      },
      "source": [
        "!ls /content/DysphoniaSVD/healthy/ | wc -l\n",
        "!ls /content/DysphoniaSVD/pathological/hyperfunctional/ | wc -l\n",
        "!ls /content/DysphoniaSVD/pathological/functional/ | wc -l\n",
        "!ls /content/DysphoniaSVD/pathological/organic/ | wc -l\n",
        "!ls /content/DysphoniaSVD/pathological/psychogenic/ | wc -l"
      ],
      "execution_count": null,
      "outputs": [
        {
          "output_type": "stream",
          "text": [
            "3141\n",
            "1916\n",
            "1008\n",
            "909\n",
            "819\n"
          ],
          "name": "stdout"
        }
      ]
    },
    {
      "cell_type": "code",
      "metadata": {
        "colab": {
          "base_uri": "https://localhost:8080/"
        },
        "id": "x06Bc8DYEwZW",
        "outputId": "544943a3-0e85-4bf8-a90a-7c39f9e3667e"
      },
      "source": [
        "3141+1916+1008+909+819"
      ],
      "execution_count": null,
      "outputs": [
        {
          "output_type": "execute_result",
          "data": {
            "text/plain": [
              "7793"
            ]
          },
          "metadata": {
            "tags": []
          },
          "execution_count": 30
        }
      ]
    },
    {
      "cell_type": "code",
      "metadata": {
        "id": "guQPxY1xz75X"
      },
      "source": [
        "data_path = \"/content/DysphoniaSVD/\""
      ],
      "execution_count": null,
      "outputs": []
    },
    {
      "cell_type": "code",
      "metadata": {
        "id": "2gBVzI4Wz72q",
        "colab": {
          "base_uri": "https://localhost:8080/"
        },
        "outputId": "b1e3aa75-e18c-47c2-de64-0a1a24f4c1f9"
      },
      "source": [
        "total_df = generate_jshmfcc(data_path)"
      ],
      "execution_count": null,
      "outputs": [
        {
          "output_type": "stream",
          "text": [
            "100%|██████████| 3141/3141 [09:31<00:00,  5.50it/s]\n",
            "100%|██████████| 1008/1008 [02:59<00:00,  5.60it/s]\n",
            "100%|██████████| 1916/1916 [05:57<00:00,  5.36it/s]\n",
            "100%|██████████| 909/909 [02:37<00:00,  5.79it/s]\n",
            "100%|██████████| 819/819 [02:20<00:00,  5.82it/s]\n"
          ],
          "name": "stderr"
        }
      ]
    },
    {
      "cell_type": "code",
      "metadata": {
        "id": "dX2Onc-Oz70D",
        "colab": {
          "base_uri": "https://localhost:8080/",
          "height": 309
        },
        "outputId": "5a8355d6-ed81-47a6-f897-12f6fb3c73d9"
      },
      "source": [
        "total_df"
      ],
      "execution_count": null,
      "outputs": [
        {
          "output_type": "execute_result",
          "data": {
            "text/html": [
              "<div>\n",
              "<style scoped>\n",
              "    .dataframe tbody tr th:only-of-type {\n",
              "        vertical-align: middle;\n",
              "    }\n",
              "\n",
              "    .dataframe tbody tr th {\n",
              "        vertical-align: top;\n",
              "    }\n",
              "\n",
              "    .dataframe thead th {\n",
              "        text-align: right;\n",
              "    }\n",
              "</style>\n",
              "<table border=\"1\" class=\"dataframe\">\n",
              "  <thead>\n",
              "    <tr style=\"text-align: right;\">\n",
              "      <th></th>\n",
              "      <th>Name</th>\n",
              "      <th>Type</th>\n",
              "      <th>Tone</th>\n",
              "      <th>Syllab</th>\n",
              "      <th>Jitter</th>\n",
              "      <th>Shimmer</th>\n",
              "      <th>HNR</th>\n",
              "      <th>MFCC-0</th>\n",
              "      <th>MFCC-1</th>\n",
              "      <th>MFCC-2</th>\n",
              "      <th>MFCC-3</th>\n",
              "      <th>MFCC-4</th>\n",
              "      <th>MFCC-5</th>\n",
              "      <th>MFCC-6</th>\n",
              "      <th>MFCC-7</th>\n",
              "      <th>MFCC-8</th>\n",
              "      <th>MFCC-9</th>\n",
              "      <th>MFCC-10</th>\n",
              "      <th>MFCC-11</th>\n",
              "      <th>MFCC-12</th>\n",
              "    </tr>\n",
              "  </thead>\n",
              "  <tbody>\n",
              "    <tr>\n",
              "      <th>0</th>\n",
              "      <td>831-a_h</td>\n",
              "      <td>healthy</td>\n",
              "      <td>h</td>\n",
              "      <td>a</td>\n",
              "      <td>0.197048</td>\n",
              "      <td>0.011417</td>\n",
              "      <td>30.370048</td>\n",
              "      <td>1055.041233</td>\n",
              "      <td>464.748232</td>\n",
              "      <td>253.672024</td>\n",
              "      <td>211.880523</td>\n",
              "      <td>-7.220064</td>\n",
              "      <td>-25.344796</td>\n",
              "      <td>-68.484316</td>\n",
              "      <td>-89.092073</td>\n",
              "      <td>27.530020</td>\n",
              "      <td>-0.209429</td>\n",
              "      <td>-12.265432</td>\n",
              "      <td>18.510297</td>\n",
              "      <td>29.035445</td>\n",
              "    </tr>\n",
              "    <tr>\n",
              "      <th>0</th>\n",
              "      <td>2417-a_n</td>\n",
              "      <td>functional</td>\n",
              "      <td>n</td>\n",
              "      <td>a</td>\n",
              "      <td>0.306778</td>\n",
              "      <td>0.014159</td>\n",
              "      <td>27.638194</td>\n",
              "      <td>1602.668213</td>\n",
              "      <td>289.848730</td>\n",
              "      <td>35.298471</td>\n",
              "      <td>219.578984</td>\n",
              "      <td>76.411743</td>\n",
              "      <td>94.112887</td>\n",
              "      <td>-7.842234</td>\n",
              "      <td>-56.415737</td>\n",
              "      <td>6.660792</td>\n",
              "      <td>-6.674514</td>\n",
              "      <td>-9.247020</td>\n",
              "      <td>-22.713022</td>\n",
              "      <td>-37.243954</td>\n",
              "    </tr>\n",
              "    <tr>\n",
              "      <th>0</th>\n",
              "      <td>669-a_n</td>\n",
              "      <td>hyperfunctional</td>\n",
              "      <td>n</td>\n",
              "      <td>a</td>\n",
              "      <td>0.480390</td>\n",
              "      <td>0.023566</td>\n",
              "      <td>22.165890</td>\n",
              "      <td>1304.143643</td>\n",
              "      <td>436.795862</td>\n",
              "      <td>211.833410</td>\n",
              "      <td>132.357304</td>\n",
              "      <td>-80.160507</td>\n",
              "      <td>-61.908708</td>\n",
              "      <td>-38.743092</td>\n",
              "      <td>-72.877078</td>\n",
              "      <td>3.779310</td>\n",
              "      <td>-38.499176</td>\n",
              "      <td>-10.272015</td>\n",
              "      <td>-22.381768</td>\n",
              "      <td>-29.016693</td>\n",
              "    </tr>\n",
              "    <tr>\n",
              "      <th>0</th>\n",
              "      <td>2000-a_l</td>\n",
              "      <td>organic</td>\n",
              "      <td>l</td>\n",
              "      <td>a</td>\n",
              "      <td>0.380039</td>\n",
              "      <td>0.038401</td>\n",
              "      <td>22.634162</td>\n",
              "      <td>1212.560070</td>\n",
              "      <td>331.769122</td>\n",
              "      <td>269.948353</td>\n",
              "      <td>301.313079</td>\n",
              "      <td>-55.776398</td>\n",
              "      <td>-14.284108</td>\n",
              "      <td>-38.795154</td>\n",
              "      <td>-92.874596</td>\n",
              "      <td>-29.121905</td>\n",
              "      <td>-37.768206</td>\n",
              "      <td>-25.329755</td>\n",
              "      <td>38.009249</td>\n",
              "      <td>28.506557</td>\n",
              "    </tr>\n",
              "    <tr>\n",
              "      <th>0</th>\n",
              "      <td>2310-i_l</td>\n",
              "      <td>psychogenic</td>\n",
              "      <td>l</td>\n",
              "      <td>i</td>\n",
              "      <td>0.251221</td>\n",
              "      <td>0.016296</td>\n",
              "      <td>28.772017</td>\n",
              "      <td>1482.613637</td>\n",
              "      <td>483.231693</td>\n",
              "      <td>-12.167514</td>\n",
              "      <td>84.282908</td>\n",
              "      <td>137.316927</td>\n",
              "      <td>115.622970</td>\n",
              "      <td>-13.810243</td>\n",
              "      <td>-96.603894</td>\n",
              "      <td>-28.002820</td>\n",
              "      <td>-41.461302</td>\n",
              "      <td>-28.367279</td>\n",
              "      <td>11.490600</td>\n",
              "      <td>-48.424881</td>\n",
              "    </tr>\n",
              "  </tbody>\n",
              "</table>\n",
              "</div>"
            ],
            "text/plain": [
              "       Name             Type Tone  ...    MFCC-10    MFCC-11    MFCC-12\n",
              "0   831-a_h          healthy    h  ... -12.265432  18.510297  29.035445\n",
              "0  2417-a_n       functional    n  ...  -9.247020 -22.713022 -37.243954\n",
              "0   669-a_n  hyperfunctional    n  ... -10.272015 -22.381768 -29.016693\n",
              "0  2000-a_l          organic    l  ... -25.329755  38.009249  28.506557\n",
              "0  2310-i_l      psychogenic    l  ... -28.367279  11.490600 -48.424881\n",
              "\n",
              "[5 rows x 20 columns]"
            ]
          },
          "metadata": {
            "tags": []
          },
          "execution_count": 29
        }
      ]
    },
    {
      "cell_type": "code",
      "metadata": {
        "id": "WVCxQC65z7xH",
        "colab": {
          "base_uri": "https://localhost:8080/"
        },
        "outputId": "07ecb038-9226-4e63-98d3-15bd71d47b03"
      },
      "source": [
        "total_df.shape"
      ],
      "execution_count": null,
      "outputs": [
        {
          "output_type": "execute_result",
          "data": {
            "text/plain": [
              "(5, 20)"
            ]
          },
          "metadata": {
            "tags": []
          },
          "execution_count": 26
        }
      ]
    },
    {
      "cell_type": "code",
      "metadata": {
        "id": "4CGJtfmSz7qs"
      },
      "source": [
        ""
      ],
      "execution_count": null,
      "outputs": []
    },
    {
      "cell_type": "code",
      "metadata": {
        "id": "5mGYtNRWzp24",
        "outputId": "6d3561c4-7e90-4a33-afb4-fae59efb5188"
      },
      "source": [
        "# Save the outputs to the processed data directory\n",
        "test_report.to_csv (\"./data/processed/test_SVD_j_s_hnr_mfcc.csv\", index = False, header=True)\n",
        "print(\"Test data exported\")\n",
        "# train_report.to_csv (\"./data/processed/train_SVD_j_s_hnr_mfcc.csv\", index = False, header=True)\n",
        "print(\"Train data exported\")\n",
        "\n",
        "\n"
      ],
      "execution_count": null,
      "outputs": [
        {
          "output_type": "stream",
          "text": [
            "Test data exported\n",
            "Train data exported\n"
          ],
          "name": "stdout"
        }
      ]
    },
    {
      "cell_type": "code",
      "metadata": {
        "id": "PrMFB_BQzp24"
      },
      "source": [
        "# 20201105 \n",
        "# so i recognized the problem with mfcc calculation so I'm re-doing it correctly.\n",
        "\n",
        "# 1105 09:02 now generating new dataset with the correct average mfcc value. no d1 d2 included here."
      ],
      "execution_count": null,
      "outputs": []
    },
    {
      "cell_type": "code",
      "metadata": {
        "id": "5IeInSJNzp25"
      },
      "source": [
        ""
      ],
      "execution_count": null,
      "outputs": []
    }
  ]
}